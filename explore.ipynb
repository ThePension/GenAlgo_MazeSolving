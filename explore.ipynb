{
 "cells": [
  {
   "cell_type": "markdown",
   "metadata": {},
   "source": [
    "# TP4 - Labyrinthe\n",
    "Notebook pour tester le code dans le module labyrinth.py"
   ]
  },
  {
   "cell_type": "code",
   "execution_count": 2,
   "metadata": {
    "collapsed": true
   },
   "outputs": [],
   "source": [
    "import numpy as np"
   ]
  },
  {
   "cell_type": "code",
   "execution_count": 3,
   "metadata": {
    "collapsed": false
   },
   "outputs": [],
   "source": [
    "import importlib\n",
    "from individual import Individual\n",
    "import labyrinth\n",
    "importlib.reload(labyrinth) # force to reload the module without restarting the kernel\n",
    "from labyrinth import display_labyrinth\n",
    "from labyrinth import solve_labyrinth\n",
    "from mazegenerator import MazeGenerator\n"
   ]
  },
  {
   "cell_type": "code",
   "execution_count": 10,
   "metadata": {},
   "outputs": [
    {
     "name": "stdout",
     "output_type": "stream",
     "text": [
      "Path length : 74\n",
      "[(0, 0), (0, 1), (0, 2), (0, 3), (1, 3), (0, 3), (0, 2), (1, 2), (2, 2), (1, 2), (2, 2), (3, 2), (4, 2), (3, 2), (2, 2), (3, 2), (2, 2), (3, 2), (2, 2), (3, 2), (4, 2), (5, 2), (6, 2), (7, 2), (6, 2), (7, 2), (8, 2), (9, 2), (9, 1), (10, 1), (10, 0), (10, 1), (11, 1), (12, 1), (12, 2), (12, 3), (12, 4), (12, 5), (13, 5), (12, 5), (12, 4), (13, 4), (13, 5), (14, 5), (14, 4), (14, 5), (14, 6), (15, 6), (16, 6), (15, 6), (16, 6), (15, 6), (14, 6), (14, 7), (14, 8), (14, 9), (15, 9), (14, 9), (14, 10), (14, 11), (15, 11), (15, 12), (15, 13), (15, 14), (16, 14), (16, 15), (17, 15), (17, 16), (17, 17), (16, 17), (17, 17), (18, 17), (18, 18), (18, 19)]\n"
     ]
    },
    {
     "data": {
      "image/png": "[encoded data removed]",
      "text/plain": [
       "<Figure size 480x480 with 1 Axes>"
      ]
     },
     "metadata": {},
     "output_type": "display_data"
    }
   ],
   "source": [
    "from random import randint\n",
    "\n",
    "\n",
    "def random_maze(w : int, h : int, wall_ratio : float) -> np.ndarray:\n",
    "    maze = np.zeros((h, w), dtype=int)\n",
    "    for i in range(0, h):\n",
    "        for j in range(0, w):\n",
    "            if np.random.rand() < wall_ratio:\n",
    "                maze[i, j] = 1\n",
    "    return maze\n",
    "\n",
    "size = 20\n",
    "init_cell = (0, 0)\n",
    "dest_cell = (size - 1, size - 1)\n",
    "time_s = 30\n",
    "\n",
    "m = random_maze(size, size, 0.2)\n",
    "\n",
    "path = solve_labyrinth(m, init_cell, dest_cell, time_s)\n",
    "\n",
    "display_labyrinth(m, init_cell, dest_cell, path)\n",
    "\n",
    "print(\"Path length : \" + str(len(path)))\n",
    "print(path)"
   ]
  },
  {
   "cell_type": "markdown",
   "metadata": {},
   "source": [
    "## Load the grid"
   ]
  },
  {
   "cell_type": "code",
   "execution_count": 4,
   "metadata": {
    "collapsed": false
   },
   "outputs": [],
   "source": [
    "file = \"grid10.npy\"\n",
    "grid = np.load(file)\n",
    "start = (0,0)\n",
    "h = grid.shape[0]\n",
    "w = grid.shape[1]\n",
    "end = (h - 1, w - 1)"
   ]
  },
  {
   "cell_type": "markdown",
   "metadata": {},
   "source": [
    "## Solve the labyrinth"
   ]
  },
  {
   "cell_type": "code",
   "execution_count": 5,
   "metadata": {
    "collapsed": false
   },
   "outputs": [
    {
     "name": "stdout",
     "output_type": "stream",
     "text": [
      "No solution has been found\n"
     ]
    },
    {
     "data": {
      "image/png": "[encoded data removed]",
      "text/plain": [
       "<Figure size 480x480 with 1 Axes>"
      ]
     },
     "metadata": {},
     "output_type": "display_data"
    }
   ],
   "source": [
    "display_labyrinth(grid, start, end)"
   ]
  },
  {
   "cell_type": "code",
   "execution_count": 8,
   "metadata": {
    "collapsed": true
   },
   "outputs": [
    {
     "name": "stdout",
     "output_type": "stream",
     "text": [
      "[(0, 0), (0, 1), (1, 1), (1, 2), (1, 3), (2, 3), (3, 3), (4, 3), (5, 3), (6, 3), (6, 4), (6, 5), (6, 6), (6, 7), (7, 7), (8, 7), (8, 8), (9, 8), (9, 9)]\n"
     ]
    }
   ],
   "source": [
    "# Run the genetic algorithm\n",
    "path = solve_labyrinth(grid, start, end, 10)\n",
    "#!solution = [(0,0), (0,1), (0,2), (1,2), (1,3), (2,3), (3,3), (4,3), \n",
    "#            (5,3), (6,3), (6,4), (6,5), (6,6), (6,7), (6,8), (7,8),\n",
    "#            (8,8), (9,8), (9,9)]\n",
    "print(path)"
   ]
  },
  {
   "cell_type": "code",
   "execution_count": 9,
   "metadata": {
    "collapsed": false
   },
   "outputs": [
    {
     "data": {
      "image/png": "[encoded data removed]",
      "text/plain": [
       "<Figure size 480x480 with 1 Axes>"
      ]
     },
     "metadata": {},
     "output_type": "display_data"
    }
   ],
   "source": [
    "display_labyrinth(grid, start, end, path)"
   ]
  },
  {
   "cell_type": "code",
   "execution_count": 6,
   "metadata": {},
   "outputs": [
    {
     "name": "stdout",
     "output_type": "stream",
     "text": [
      "No solution has been found\n"
     ]
    },
    {
     "data": {
      "image/png": "[encoded data removed]",
      "text/plain": [
       "<Figure size 480x480 with 1 Axes>"
      ]
     },
     "metadata": {},
     "output_type": "display_data"
    }
   ],
   "source": [
    "random_maze = MazeGenerator.generate_maze(40, 40)\n",
    "\n",
    "display_labyrinth(random_maze, (1, 1), (38, 38))\n",
    "\n",
    "# # Run the genetic algorithm\n",
    "# path = solve_labyrinth(random_maze, (1, 1), (8, 8), 10)\n",
    "\n",
    "# print(\"Path length : \" + str(len(path)))\n",
    "\n",
    "# display_labyrinth(random_maze, (1, 1), (8, 8), path)"
   ]
  }
 ],
 "metadata": {
  "kernelspec": {
   "display_name": "Python 3.10.7 64-bit",
   "language": "python",
   "name": "python3"
  },
  "language_info": {
   "codemirror_mode": {
    "name": "ipython",
    "version": 3
   },
   "file_extension": ".py",
   "mimetype": "text/x-python",
   "name": "python",
   "nbconvert_exporter": "python",
   "pygments_lexer": "ipython3",
   "version": "3.10.7"
  },
  "vscode": {
   "interpreter": {
    "hash": "87230a1d48e704fbc1f5d10bb206438bac9aba73ad7f7a39bccd41d240a59d0c"
   }
  }
 },
 "nbformat": 4,
 "nbformat_minor": 4
}
