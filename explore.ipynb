{
 "cells": [
  {
   "cell_type": "markdown",
   "metadata": {},
   "source": [
    "# TP4 - Labyrinthe\n",
    "Notebook pour tester le code dans le module labyrinth.py"
   ]
  },
  {
   "cell_type": "code",
   "execution_count": 1,
   "metadata": {
    "collapsed": true
   },
   "outputs": [],
   "source": [
    "import numpy as np"
   ]
  },
  {
   "cell_type": "code",
   "execution_count": 2,
   "metadata": {
    "collapsed": false
   },
   "outputs": [
    {
     "name": "stderr",
     "output_type": "stream",
     "text": [
      "c:\\Users\\Nicolas Aubert\\AppData\\Local\\Programs\\Python\\Python310\\lib\\site-packages\\deap\\creator.py:138: RuntimeWarning: A class named 'FitnessMin' has already been created and it will be overwritten. Consider deleting previous creation of that class or rename it.\n",
      "  warnings.warn(\"A class named '{0}' has already been created and it \"\n",
      "c:\\Users\\Nicolas Aubert\\AppData\\Local\\Programs\\Python\\Python310\\lib\\site-packages\\deap\\creator.py:138: RuntimeWarning: A class named 'Individual' has already been created and it will be overwritten. Consider deleting previous creation of that class or rename it.\n",
      "  warnings.warn(\"A class named '{0}' has already been created and it \"\n"
     ]
    }
   ],
   "source": [
    "import importlib\n",
    "import labyrinth_with_deap\n",
    "importlib.reload(labyrinth_with_deap) # force to reload the module without restarting the kernel\n",
    "from labyrinth_with_deap import display_labyrinth\n",
    "from labyrinth_with_deap import solve_labyrinth\n",
    "from mazegenerator import MazeGenerator\n"
   ]
  },
  {
   "cell_type": "code",
   "execution_count": 25,
   "metadata": {},
   "outputs": [
    {
     "name": "stdout",
     "output_type": "stream",
     "text": [
      "Path length : 1\n",
      "[(0, 0)]\n"
     ]
    },
    {
     "data": {
      "image/png": "[encoded data removed]",
      "text/plain": [
       "<Figure size 480x480 with 1 Axes>"
      ]
     },
     "metadata": {},
     "output_type": "display_data"
    }
   ],
   "source": [
    "from random import randint\n",
    "\n",
    "\n",
    "def random_maze(w : int, h : int, wall_ratio : float) -> np.ndarray:\n",
    "    maze = np.zeros((h, w), dtype=int)\n",
    "    for i in range(0, h):\n",
    "        for j in range(0, w):\n",
    "            if np.random.rand() < wall_ratio:\n",
    "                maze[i, j] = 1\n",
    "    return maze\n",
    "\n",
    "size = 20\n",
    "init_cell = (0, 0)\n",
    "dest_cell = (size - 1, size - 1)\n",
    "time_s = 5\n",
    "\n",
    "m = random_maze(size, size, 0.2)\n",
    "\n",
    "path = solve_labyrinth(m, init_cell, dest_cell, time_s)\n",
    "\n",
    "display_labyrinth(m, init_cell, dest_cell, path)\n",
    "\n",
    "# print(\"Path length : \" + str(len(path)))\n",
    "# print(path)"
   ]
  },
  {
   "cell_type": "markdown",
   "metadata": {},
   "source": [
    "## Load the grid"
   ]
  },
  {
   "cell_type": "code",
   "execution_count": 4,
   "metadata": {
    "collapsed": false
   },
   "outputs": [],
   "source": [
    "file = \"grid10.npy\"\n",
    "grid = np.load(file)\n",
    "start = (0,0)\n",
    "h = grid.shape[0]\n",
    "w = grid.shape[1]\n",
    "end = (h - 1, w - 1)"
   ]
  },
  {
   "cell_type": "markdown",
   "metadata": {},
   "source": [
    "## Solve the labyrinth"
   ]
  },
  {
   "cell_type": "code",
   "execution_count": 5,
   "metadata": {
    "collapsed": false
   },
   "outputs": [
    {
     "name": "stdout",
     "output_type": "stream",
     "text": [
      "No solution has been found\n"
     ]
    },
    {
     "data": {
      "image/png": "[encoded data removed]",
      "text/plain": [
       "<Figure size 480x480 with 1 Axes>"
      ]
     },
     "metadata": {},
     "output_type": "display_data"
    }
   ],
   "source": [
    "display_labyrinth(grid, start, end)"
   ]
  },
  {
   "cell_type": "code",
   "execution_count": 13,
   "metadata": {
    "collapsed": true
   },
   "outputs": [
    {
     "name": "stdout",
     "output_type": "stream",
     "text": [
      "19\n",
      "[(0, 0), (0, 1), (1, 1), (1, 2), (1, 3), (2, 3), (3, 3), (4, 3), (5, 3), (6, 3), (6, 4), (6, 5), (7, 5), (8, 5), (8, 6), (8, 7), (8, 8), (9, 8), (9, 9)]\n"
     ]
    },
    {
     "data": {
      "image/png": "[encoded data removed]",
      "text/plain": [
       "<Figure size 480x480 with 1 Axes>"
      ]
     },
     "metadata": {},
     "output_type": "display_data"
    }
   ],
   "source": [
    "# Run the genetic algorithm\n",
    "path = solve_labyrinth(grid, start, end, 10)\n",
    "#!solution = [(0,0), (0,1), (0,2), (1,2), (1,3), (2,3), (3,3), (4,3), \n",
    "#            (5,3), (6,3), (6,4), (6,5), (6,6), (6,7), (6,8), (7,8),\n",
    "#            (8,8), (9,8), (9,9)]\n",
    "print(len(path))\n",
    "print(path)\n",
    "\n",
    "display_labyrinth(grid, start, end, path)"
   ]
  },
  {
   "cell_type": "code",
   "execution_count": 23,
   "metadata": {},
   "outputs": [
    {
     "name": "stdout",
     "output_type": "stream",
     "text": [
      "Path length : 47\n"
     ]
    },
    {
     "data": {
      "image/png": "[encoded data removed]",
      "text/plain": [
       "<Figure size 480x480 with 1 Axes>"
      ]
     },
     "metadata": {},
     "output_type": "display_data"
    }
   ],
   "source": [
    "dim = 20\n",
    "random_maze = MazeGenerator.generate_maze(dim, dim)\n",
    "\n",
    "# display_labyrinth(random_maze, (1, 1), (38, 38))\n",
    "\n",
    "# # Run the genetic algorithm\n",
    "path = solve_labyrinth(random_maze, (1, 1), (dim - 2, dim - 2), 3)\n",
    "\n",
    "print(\"Path length : \" + str(len(path)))\n",
    "\n",
    "display_labyrinth(random_maze, (1, 1), (dim - 2, dim - 2), path)"
   ]
  }
 ],
 "metadata": {
  "kernelspec": {
   "display_name": "Python 3.10.7 64-bit",
   "language": "python",
   "name": "python3"
  },
  "language_info": {
   "codemirror_mode": {
    "name": "ipython",
    "version": 3
   },
   "file_extension": ".py",
   "mimetype": "text/x-python",
   "name": "python",
   "nbconvert_exporter": "python",
   "pygments_lexer": "ipython3",
   "version": "3.10.7"
  },
  "vscode": {
   "interpreter": {
    "hash": "87230a1d48e704fbc1f5d10bb206438bac9aba73ad7f7a39bccd41d240a59d0c"
   }
  }
 },
 "nbformat": 4,
 "nbformat_minor": 4
}
