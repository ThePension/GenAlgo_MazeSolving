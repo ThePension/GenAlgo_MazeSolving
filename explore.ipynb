{
 "cells": [
  {
   "cell_type": "markdown",
   "metadata": {},
   "source": [
    "# TP4 - Labyrinthe\n",
    "Notebook pour tester le code dans le module labyrinth.py"
   ]
  },
  {
   "cell_type": "code",
   "execution_count": 2,
   "metadata": {
    "collapsed": true
   },
   "outputs": [],
   "source": [
    "import numpy as np"
   ]
  },
  {
   "cell_type": "code",
   "execution_count": 3,
   "metadata": {
    "collapsed": false
   },
   "outputs": [],
   "source": [
    "import importlib\n",
    "from individual import Individual\n",
    "import labyrinth\n",
    "importlib.reload(labyrinth) # force to reload the module without restarting the kernel\n",
    "from labyrinth import display_labyrinth\n",
    "from labyrinth import solve_labyrinth\n"
   ]
  },
  {
   "cell_type": "code",
   "execution_count": 21,
   "metadata": {},
   "outputs": [
    {
     "name": "stdout",
     "output_type": "stream",
     "text": [
      "Path length : 332\n",
      "[(0, 0), (0, 1), (1, 1), (1, 2), (1, 3), (1, 4), (1, 5), (1, 6), (1, 7), (2, 7), (3, 7), (3, 8), (3, 9), (3, 10), (3, 11), (4, 11), (4, 12), (4, 13), (4, 14), (5, 14), (6, 14), (7, 14), (8, 14), (9, 14), (10, 14), (10, 13), (11, 13), (12, 13), (12, 14), (12, 13), (12, 14), (12, 13), (12, 14), (12, 13), (11, 13), (11, 12), (11, 11), (12, 11), (11, 11), (12, 11), (13, 11), (13, 10), (14, 10), (13, 10), (12, 10), (12, 9), (12, 10), (13, 10), (12, 10), (11, 10), (12, 10), (11, 10), (12, 10), (12, 9), (12, 8), (13, 8), (12, 8), (12, 7), (12, 8), (12, 9), (12, 10), (11, 10), (12, 10), (12, 9), (13, 9), (13, 10), (13, 11), (12, 11), (11, 11), (11, 12), (11, 13), (10, 13), (10, 14), (9, 14), (10, 14), (9, 14), (10, 14), (10, 13), (10, 14), (10, 13), (11, 13), (11, 12), (11, 11), (12, 11), (12, 10), (12, 11), (11, 11), (11, 10), (12, 10), (12, 11), (11, 11), (11, 12), (11, 11), (10, 11), (9, 11), (10, 11), (11, 11), (11, 10), (12, 10), (12, 11), (13, 11), (13, 12), (13, 11), (13, 10), (13, 9), (12, 9), (13, 9), (13, 8), (12, 8), (13, 8), (13, 7), (13, 8), (13, 9), (12, 9), (12, 8), (12, 7), (13, 7), (12, 7), (13, 7), (12, 7), (13, 7), (12, 7), (12, 8), (12, 9), (12, 10), (13, 10), (13, 9), (12, 9), (13, 9), (13, 8), (13, 9), (13, 10), (13, 9), (13, 8), (13, 9), (13, 10), (13, 9), (12, 9), (12, 10), (12, 9), (13, 9), (12, 9), (12, 10), (11, 10), (12, 10), (12, 11), (12, 10), (12, 9), (13, 9), (12, 9), (12, 8), (13, 8), (12, 8), (12, 7), (13, 7), (13, 6), (12, 6), (13, 6), (13, 5), (13, 6), (13, 7), (12, 7), (12, 8), (12, 7), (12, 6), (11, 6), (11, 5), (12, 5), (11, 5), (10, 5), (11, 5), (12, 5), (12, 4), (12, 5), (12, 4), (13, 4), (13, 3), (12, 3), (12, 2), (12, 3), (11, 3), (10, 3), (9, 3), (10, 3), (11, 3), (11, 4), (10, 4), (11, 4), (11, 3), (11, 2), (12, 2), (12, 1), (12, 2), (12, 3), (12, 2), (12, 3), (13, 3), (12, 3), (12, 2), (11, 2), (12, 2), (11, 2), (10, 2), (9, 2), (10, 2), (10, 3), (9, 3), (10, 3), (10, 4), (10, 3), (10, 2), (10, 1), (10, 2), (11, 2), (10, 2), (10, 3), (11, 3), (10, 3), (10, 4), (10, 3), (9, 3), (9, 2), (9, 3), (10, 3), (10, 4), (10, 3), (9, 3), (10, 3), (11, 3), (11, 4), (11, 3), (10, 3), (10, 2), (9, 2), (10, 2), (9, 2), (9, 3), (9, 2), (9, 1), (9, 2), (10, 2), (11, 2), (11, 1), (10, 1), (10, 0), (9, 0), (8, 0), (8, 1), (9, 1), (9, 2), (8, 2), (8, 1), (8, 0), (9, 0), (9, 1), (10, 1), (10, 0), (10, 1), (9, 1), (8, 1), (8, 0), (9, 0), (10, 0), (10, 1), (9, 1), (9, 0), (9, 1), (10, 1), (9, 1), (8, 1), (8, 0), (8, 1), (9, 1), (9, 2), (9, 1), (9, 2), (8, 2), (8, 1), (8, 0), (9, 0), (9, 1), (8, 1), (8, 0), (9, 0), (9, 1), (8, 1), (7, 1), (6, 1), (6, 0), (5, 0), (5, 1), (5, 2), (4, 2), (3, 2), (3, 1), (4, 1), (3, 1), (4, 1), (3, 1), (4, 1), (4, 2), (4, 1), (4, 2), (4, 3), (4, 4), (4, 5), (5, 5), (6, 5), (6, 6), (6, 7), (6, 6), (7, 6), (7, 5), (7, 4), (8, 4), (8, 5), (7, 5), (8, 5), (7, 5), (8, 5), (7, 5), (6, 5), (5, 5), (5, 4), (6, 4), (6, 5), (7, 5), (7, 6), (7, 7), (7, 6), (6, 6), (6, 5)]\n"
     ]
    },
    {
     "data": {
      "image/png": "[encoded data removed]",
      "text/plain": [
       "<Figure size 480x480 with 1 Axes>"
      ]
     },
     "metadata": {},
     "output_type": "display_data"
    }
   ],
   "source": [
    "from random import randint\n",
    "\n",
    "\n",
    "def random_maze(w : int, h : int, wall_ratio : float) -> np.ndarray:\n",
    "    maze = np.zeros((h, w), dtype=int)\n",
    "    for i in range(0, h):\n",
    "        for j in range(0, w):\n",
    "            if np.random.rand() < wall_ratio:\n",
    "                maze[i, j] = 1\n",
    "    return maze\n",
    "\n",
    "size = 15\n",
    "init_cell = (0, 0)\n",
    "dest_cell = (size - 1, size - 1)\n",
    "time_s = 15\n",
    "\n",
    "m = random_maze(size, size, 0.2)\n",
    "\n",
    "path = solve_labyrinth(m, init_cell, dest_cell, time_s)\n",
    "\n",
    "display_labyrinth(m, init_cell, dest_cell, path)\n",
    "\n",
    "print(\"Path length : \" + str(len(path)))\n",
    "print(path)"
   ]
  },
  {
   "cell_type": "markdown",
   "metadata": {},
   "source": [
    "## Load the grid"
   ]
  },
  {
   "cell_type": "code",
   "execution_count": 5,
   "metadata": {
    "collapsed": false
   },
   "outputs": [],
   "source": [
    "file = \"grid10.npy\"\n",
    "grid = np.load(file)\n",
    "start = (0,0)\n",
    "h = grid.shape[0]\n",
    "w = grid.shape[1]\n",
    "end = (h - 1, w - 1)"
   ]
  },
  {
   "cell_type": "markdown",
   "metadata": {},
   "source": [
    "## Solve the labyrinth"
   ]
  },
  {
   "cell_type": "code",
   "execution_count": 6,
   "metadata": {
    "collapsed": false
   },
   "outputs": [
    {
     "name": "stdout",
     "output_type": "stream",
     "text": [
      "No solution has been found\n"
     ]
    },
    {
     "data": {
      "image/png": "[encoded data removed]",
      "text/plain": [
       "<Figure size 480x480 with 1 Axes>"
      ]
     },
     "metadata": {},
     "output_type": "display_data"
    }
   ],
   "source": [
    "display_labyrinth(grid, start, end)"
   ]
  },
  {
   "cell_type": "code",
   "execution_count": 7,
   "metadata": {
    "collapsed": true
   },
   "outputs": [
    {
     "name": "stdout",
     "output_type": "stream",
     "text": [
      "[(0, 0), (0, 1), (1, 1), (1, 2), (1, 3), (2, 3), (3, 3), (4, 3), (5, 3), (5, 4), (6, 4), (6, 5), (7, 5), (8, 5), (8, 6), (8, 7), (9, 7), (9, 8), (9, 9)]\n"
     ]
    }
   ],
   "source": [
    "# Run the genetic algorithm\n",
    "path = solve_labyrinth(grid, start, end, 10)\n",
    "#!solution = [(0,0), (0,1), (0,2), (1,2), (1,3), (2,3), (3,3), (4,3), \n",
    "#            (5,3), (6,3), (6,4), (6,5), (6,6), (6,7), (6,8), (7,8),\n",
    "#            (8,8), (9,8), (9,9)]\n",
    "print(path)"
   ]
  },
  {
   "cell_type": "code",
   "execution_count": 8,
   "metadata": {
    "collapsed": false
   },
   "outputs": [
    {
     "data": {
      "image/png": "[encoded data removed]",
      "text/plain": [
       "<Figure size 480x480 with 1 Axes>"
      ]
     },
     "metadata": {},
     "output_type": "display_data"
    }
   ],
   "source": [
    "display_labyrinth(grid, start, end, path)"
   ]
  },
  {
   "cell_type": "code",
   "execution_count": null,
   "metadata": {},
   "outputs": [],
   "source": []
  }
 ],
 "metadata": {
  "kernelspec": {
   "display_name": "Python 3.9.5 64-bit",
   "language": "python",
   "name": "python3"
  },
  "language_info": {
   "codemirror_mode": {
    "name": "ipython",
    "version": 3
   },
   "file_extension": ".py",
   "mimetype": "text/x-python",
   "name": "python",
   "nbconvert_exporter": "python",
   "pygments_lexer": "ipython3",
   "version": "3.9.5"
  },
  "vscode": {
   "interpreter": {
    "hash": "b4f35bca6a71977831938391b01dd58e3be6d850637f3133a6b1f36e4548f4f9"
   }
  }
 },
 "nbformat": 4,
 "nbformat_minor": 4
}
